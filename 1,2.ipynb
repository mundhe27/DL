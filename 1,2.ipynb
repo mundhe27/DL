{
 "cells": [
  {
   "cell_type": "raw",
   "id": "b674a406",
   "metadata": {},
   "source": [
    "# tensorflow"
   ]
  },
  {
   "cell_type": "code",
   "execution_count": 2,
   "id": "34d4a882",
   "metadata": {
    "scrolled": true
   },
   "outputs": [
    {
     "name": "stdout",
     "output_type": "stream",
     "text": [
      "tf.Tensor(20, shape=(), dtype=int32)\n"
     ]
    }
   ],
   "source": [
    "import numpy as np\n",
    "import tensorflow as tf\n",
    "import random\n",
    "a=tf.constant(10)\n",
    "b=tf.constant(10)\n",
    "print(a+b)"
   ]
  },
  {
   "cell_type": "code",
   "execution_count": 3,
   "id": "8f8863dc",
   "metadata": {},
   "outputs": [
    {
     "data": {
      "text/plain": [
       "array([0.22993803, 0.5818663 , 0.02524319, 0.47449082, 0.5179817 ,\n",
       "       0.9895966 , 0.70389783, 0.26706403, 0.96558195, 0.5397399 ,\n",
       "       0.3076651 , 0.607959  , 0.35809335, 0.32381487, 0.35727274,\n",
       "       0.99316645, 0.73626566, 0.59987193, 0.59476906, 0.74771065,\n",
       "       0.5798306 , 0.5229403 , 0.8351843 , 0.06415537, 0.01239133,\n",
       "       0.09302871, 0.33657497, 0.5931069 , 0.14337279, 0.07222323,\n",
       "       0.13833055, 0.62413174, 0.06229552, 0.49949744, 0.87516874,\n",
       "       0.34460798, 0.8869259 , 0.80976164, 0.07498141, 0.25296545,\n",
       "       0.97791404, 0.94623613, 0.5281431 , 0.00145266, 0.68915284,\n",
       "       0.07966466, 0.12380925, 0.5297573 , 0.04588661, 0.6810573 ,\n",
       "       0.89311653, 0.58685225, 0.12624893, 0.689652  , 0.05814064,\n",
       "       0.26879793, 0.7082881 , 0.44352126, 0.21003899, 0.21608263,\n",
       "       0.11286668, 0.9892653 , 0.36712435, 0.9314803 , 0.2775666 ,\n",
       "       0.26655617, 0.8645162 , 0.06612408, 0.06562793, 0.5141531 ,\n",
       "       0.7772861 , 0.12374119, 0.30699417, 0.11876076, 0.9807887 ,\n",
       "       0.09279618, 0.26306543, 0.8273542 , 0.13252302, 0.5846117 ,\n",
       "       0.8580177 , 0.96889645, 0.3919965 , 0.7843998 , 0.8100157 ,\n",
       "       0.53186977, 0.5429315 , 0.82790077, 0.6464814 , 0.7374781 ,\n",
       "       0.5162219 , 0.02297957, 0.02430695, 0.14149113, 0.22361284,\n",
       "       0.8855582 , 0.21334498, 0.74140567, 0.12235904, 0.01701659],\n",
       "      dtype=float32)"
      ]
     },
     "execution_count": 3,
     "metadata": {},
     "output_type": "execute_result"
    }
   ],
   "source": [
    "x=np.random.rand(100).astype(np.float32)\n",
    "x"
   ]
  },
  {
   "cell_type": "code",
   "execution_count": 4,
   "id": "7f8badf7",
   "metadata": {},
   "outputs": [],
   "source": [
    "y=x*0.2+0.2\n",
    "W=tf.Variable(tf.random.normal([1]))\n",
    "b=tf.Variable(tf.zeros([1]))"
   ]
  },
  {
   "cell_type": "code",
   "execution_count": 6,
   "id": "c7f4efcf",
   "metadata": {},
   "outputs": [],
   "source": [
    "def mse_loss():\n",
    "    ypred=W*x+b\n",
    "    loss=tf.reduce_mean(tf.square(ypred-y))\n",
    "    return loss"
   ]
  },
  {
   "cell_type": "code",
   "execution_count": 8,
   "id": "b594f7e2",
   "metadata": {
    "scrolled": true
   },
   "outputs": [
    {
     "name": "stdout",
     "output_type": "stream",
     "text": [
      "0 [-0.66468537] [0.001]\n",
      "500 [-0.29945853] [0.3365392]\n",
      "1000 [-0.15082733] [0.37490144]\n",
      "1500 [-0.05189548] [0.3300178]\n",
      "2000 [0.03801152] [0.28360054]\n",
      "2500 [0.11002216] [0.24641794]\n",
      "3000 [0.15845369] [0.22142926]\n",
      "3500 [0.18485387] [0.20781188]\n",
      "4000 [0.19592722] [0.20210056]\n",
      "4500 [0.19926165] [0.20038083]\n"
     ]
    }
   ],
   "source": [
    "optimizer=tf.keras.optimizers.Adam()\n",
    "for step in range(5000):\n",
    "    optimizer.minimize(mse_loss,var_list=[W,b])\n",
    "    if step % 500 == 0:\n",
    "        print(step,W.numpy(),b.numpy())"
   ]
  },
  {
   "cell_type": "raw",
   "id": "e657ef13",
   "metadata": {},
   "source": [
    "# pytorch"
   ]
  },
  {
   "cell_type": "code",
   "execution_count": 10,
   "id": "492caa3f",
   "metadata": {},
   "outputs": [],
   "source": [
    "import torch\n",
    "import numpy as np"
   ]
  },
  {
   "cell_type": "code",
   "execution_count": 13,
   "id": "4ca45e80",
   "metadata": {},
   "outputs": [
    {
     "name": "stdout",
     "output_type": "stream",
     "text": [
      "tensor([[1, 2],\n",
      "        [3, 4]])\n",
      "<class 'torch.Tensor'>\n"
     ]
    }
   ],
   "source": [
    "data = [\n",
    "    [1,2],\n",
    "    [3,4]\n",
    "]\n",
    "x_data = torch.tensor(data)\n",
    "print(x_data)\n",
    "print(type(x_data))"
   ]
  },
  {
   "cell_type": "code",
   "execution_count": 14,
   "id": "1275ef8a",
   "metadata": {},
   "outputs": [
    {
     "name": "stdout",
     "output_type": "stream",
     "text": [
      "tensor([[1, 2],\n",
      "        [3, 4]], dtype=torch.int32)\n",
      "<class 'torch.Tensor'>\n"
     ]
    }
   ],
   "source": [
    "np_array=np.array(data)\n",
    "x_np=torch.from_numpy(np_array)\n",
    "print(x_np)\n",
    "print(type(x_np))"
   ]
  },
  {
   "cell_type": "code",
   "execution_count": 17,
   "id": "ba5ca6a1",
   "metadata": {},
   "outputs": [
    {
     "name": "stdout",
     "output_type": "stream",
     "text": [
      "tensor([[1, 1],\n",
      "        [1, 1]])\n",
      "tensor([[0.1259, 0.7973],\n",
      "        [0.4486, 0.1511]])\n"
     ]
    }
   ],
   "source": [
    "x_ones=torch.ones_like(x_data)\n",
    "print(x_ones)\n",
    "x_rand=torch.rand_like(x_data,dtype=torch.float)\n",
    "print(x_rand)"
   ]
  },
  {
   "cell_type": "code",
   "execution_count": 21,
   "id": "844cb205",
   "metadata": {},
   "outputs": [
    {
     "name": "stdout",
     "output_type": "stream",
     "text": [
      "tensor([[1., 1.],\n",
      "        [1., 1.]])\n",
      "tensor([[0., 0.],\n",
      "        [0., 0.]])\n",
      "tensor([[0.0827, 0.7912],\n",
      "        [0.0837, 0.8156]])\n"
     ]
    }
   ],
   "source": [
    "shape=(2,2)\n",
    "ones_ten=torch.ones(shape)\n",
    "print(ones_ten)\n",
    "zeros_ten=torch.zeros(shape)\n",
    "print(zeros_ten)\n",
    "rand_ten=torch.rand(shape)\n",
    "print(rand_ten)"
   ]
  },
  {
   "cell_type": "code",
   "execution_count": 23,
   "id": "8f1143b9",
   "metadata": {},
   "outputs": [
    {
     "name": "stdout",
     "output_type": "stream",
     "text": [
      "tensor([[1., 1.],\n",
      "        [1., 1.],\n",
      "        [0., 0.],\n",
      "        [0., 0.]])\n"
     ]
    }
   ],
   "source": [
    "tensor=torch.cat([ones_ten,zeros_ten])\n",
    "print(tensor)"
   ]
  },
  {
   "cell_type": "code",
   "execution_count": 24,
   "id": "a19334cb",
   "metadata": {},
   "outputs": [
    {
     "data": {
      "text/plain": [
       "tensor([[1., 1.],\n",
       "        [1., 1.]])"
      ]
     },
     "execution_count": 24,
     "metadata": {},
     "output_type": "execute_result"
    }
   ],
   "source": [
    "ones_ten.mul(zeros_ten)\n",
    "ones_ten * zeros_ten\n",
    "ones_ten.T"
   ]
  },
  {
   "cell_type": "code",
   "execution_count": 25,
   "id": "ed3bea9b",
   "metadata": {},
   "outputs": [
    {
     "name": "stdout",
     "output_type": "stream",
     "text": [
      "tensor([[4., 4.],\n",
      "        [4., 4.]])\n"
     ]
    }
   ],
   "source": [
    "ones_ten.add_(3)\n",
    "print(ones_ten)"
   ]
  },
  {
   "cell_type": "code",
   "execution_count": 26,
   "id": "0e5bb453",
   "metadata": {},
   "outputs": [
    {
     "name": "stdout",
     "output_type": "stream",
     "text": [
      "[[1. 1.]\n",
      " [1. 1.]\n",
      " [0. 0.]\n",
      " [0. 0.]]\n",
      "<class 'numpy.ndarray'>\n"
     ]
    }
   ],
   "source": [
    "n=tensor.numpy()\n",
    "print(n)\n",
    "print(type(n))"
   ]
  },
  {
   "cell_type": "raw",
   "id": "55397c58",
   "metadata": {},
   "source": [
    "# keras"
   ]
  },
  {
   "cell_type": "code",
   "execution_count": 43,
   "id": "b2f7361c",
   "metadata": {},
   "outputs": [],
   "source": [
    "import tensorflow as tf\n",
    "from tensorflow import keras\n",
    "import numpy as np\n",
    "import pandas as pd\n",
    "from tensorflow.keras.models import Sequential\n",
    "from tensorflow.keras.layers import Dense"
   ]
  },
  {
   "cell_type": "code",
   "execution_count": 44,
   "id": "131ec758",
   "metadata": {},
   "outputs": [
    {
     "data": {
      "text/html": [
       "<div>\n",
       "<style scoped>\n",
       "    .dataframe tbody tr th:only-of-type {\n",
       "        vertical-align: middle;\n",
       "    }\n",
       "\n",
       "    .dataframe tbody tr th {\n",
       "        vertical-align: top;\n",
       "    }\n",
       "\n",
       "    .dataframe thead th {\n",
       "        text-align: right;\n",
       "    }\n",
       "</style>\n",
       "<table border=\"1\" class=\"dataframe\">\n",
       "  <thead>\n",
       "    <tr style=\"text-align: right;\">\n",
       "      <th></th>\n",
       "      <th>Pregnancies</th>\n",
       "      <th>Glucose</th>\n",
       "      <th>BloodPressure</th>\n",
       "      <th>SkinThickness</th>\n",
       "      <th>Insulin</th>\n",
       "      <th>BMI</th>\n",
       "      <th>DiabetesPedigreeFunction</th>\n",
       "      <th>Age</th>\n",
       "      <th>Outcome</th>\n",
       "    </tr>\n",
       "  </thead>\n",
       "  <tbody>\n",
       "    <tr>\n",
       "      <th>0</th>\n",
       "      <td>6</td>\n",
       "      <td>148</td>\n",
       "      <td>72</td>\n",
       "      <td>35</td>\n",
       "      <td>0</td>\n",
       "      <td>33.6</td>\n",
       "      <td>0.627</td>\n",
       "      <td>50</td>\n",
       "      <td>1</td>\n",
       "    </tr>\n",
       "    <tr>\n",
       "      <th>1</th>\n",
       "      <td>1</td>\n",
       "      <td>85</td>\n",
       "      <td>66</td>\n",
       "      <td>29</td>\n",
       "      <td>0</td>\n",
       "      <td>26.6</td>\n",
       "      <td>0.351</td>\n",
       "      <td>31</td>\n",
       "      <td>0</td>\n",
       "    </tr>\n",
       "    <tr>\n",
       "      <th>2</th>\n",
       "      <td>8</td>\n",
       "      <td>183</td>\n",
       "      <td>64</td>\n",
       "      <td>0</td>\n",
       "      <td>0</td>\n",
       "      <td>23.3</td>\n",
       "      <td>0.672</td>\n",
       "      <td>32</td>\n",
       "      <td>1</td>\n",
       "    </tr>\n",
       "    <tr>\n",
       "      <th>3</th>\n",
       "      <td>1</td>\n",
       "      <td>89</td>\n",
       "      <td>66</td>\n",
       "      <td>23</td>\n",
       "      <td>94</td>\n",
       "      <td>28.1</td>\n",
       "      <td>0.167</td>\n",
       "      <td>21</td>\n",
       "      <td>0</td>\n",
       "    </tr>\n",
       "    <tr>\n",
       "      <th>4</th>\n",
       "      <td>0</td>\n",
       "      <td>137</td>\n",
       "      <td>40</td>\n",
       "      <td>35</td>\n",
       "      <td>168</td>\n",
       "      <td>43.1</td>\n",
       "      <td>2.288</td>\n",
       "      <td>33</td>\n",
       "      <td>1</td>\n",
       "    </tr>\n",
       "    <tr>\n",
       "      <th>...</th>\n",
       "      <td>...</td>\n",
       "      <td>...</td>\n",
       "      <td>...</td>\n",
       "      <td>...</td>\n",
       "      <td>...</td>\n",
       "      <td>...</td>\n",
       "      <td>...</td>\n",
       "      <td>...</td>\n",
       "      <td>...</td>\n",
       "    </tr>\n",
       "    <tr>\n",
       "      <th>763</th>\n",
       "      <td>10</td>\n",
       "      <td>101</td>\n",
       "      <td>76</td>\n",
       "      <td>48</td>\n",
       "      <td>180</td>\n",
       "      <td>32.9</td>\n",
       "      <td>0.171</td>\n",
       "      <td>63</td>\n",
       "      <td>0</td>\n",
       "    </tr>\n",
       "    <tr>\n",
       "      <th>764</th>\n",
       "      <td>2</td>\n",
       "      <td>122</td>\n",
       "      <td>70</td>\n",
       "      <td>27</td>\n",
       "      <td>0</td>\n",
       "      <td>36.8</td>\n",
       "      <td>0.340</td>\n",
       "      <td>27</td>\n",
       "      <td>0</td>\n",
       "    </tr>\n",
       "    <tr>\n",
       "      <th>765</th>\n",
       "      <td>5</td>\n",
       "      <td>121</td>\n",
       "      <td>72</td>\n",
       "      <td>23</td>\n",
       "      <td>112</td>\n",
       "      <td>26.2</td>\n",
       "      <td>0.245</td>\n",
       "      <td>30</td>\n",
       "      <td>0</td>\n",
       "    </tr>\n",
       "    <tr>\n",
       "      <th>766</th>\n",
       "      <td>1</td>\n",
       "      <td>126</td>\n",
       "      <td>60</td>\n",
       "      <td>0</td>\n",
       "      <td>0</td>\n",
       "      <td>30.1</td>\n",
       "      <td>0.349</td>\n",
       "      <td>47</td>\n",
       "      <td>1</td>\n",
       "    </tr>\n",
       "    <tr>\n",
       "      <th>767</th>\n",
       "      <td>1</td>\n",
       "      <td>93</td>\n",
       "      <td>70</td>\n",
       "      <td>31</td>\n",
       "      <td>0</td>\n",
       "      <td>30.4</td>\n",
       "      <td>0.315</td>\n",
       "      <td>23</td>\n",
       "      <td>0</td>\n",
       "    </tr>\n",
       "  </tbody>\n",
       "</table>\n",
       "<p>768 rows × 9 columns</p>\n",
       "</div>"
      ],
      "text/plain": [
       "     Pregnancies  Glucose  BloodPressure  SkinThickness  Insulin   BMI  \\\n",
       "0              6      148             72             35        0  33.6   \n",
       "1              1       85             66             29        0  26.6   \n",
       "2              8      183             64              0        0  23.3   \n",
       "3              1       89             66             23       94  28.1   \n",
       "4              0      137             40             35      168  43.1   \n",
       "..           ...      ...            ...            ...      ...   ...   \n",
       "763           10      101             76             48      180  32.9   \n",
       "764            2      122             70             27        0  36.8   \n",
       "765            5      121             72             23      112  26.2   \n",
       "766            1      126             60              0        0  30.1   \n",
       "767            1       93             70             31        0  30.4   \n",
       "\n",
       "     DiabetesPedigreeFunction  Age  Outcome  \n",
       "0                       0.627   50        1  \n",
       "1                       0.351   31        0  \n",
       "2                       0.672   32        1  \n",
       "3                       0.167   21        0  \n",
       "4                       2.288   33        1  \n",
       "..                        ...  ...      ...  \n",
       "763                     0.171   63        0  \n",
       "764                     0.340   27        0  \n",
       "765                     0.245   30        0  \n",
       "766                     0.349   47        1  \n",
       "767                     0.315   23        0  \n",
       "\n",
       "[768 rows x 9 columns]"
      ]
     },
     "execution_count": 44,
     "metadata": {},
     "output_type": "execute_result"
    }
   ],
   "source": [
    "df=pd.read_csv(r\"C:\\Users\\yasha\\Desktop\\Ashish\\sem 7\\DL\\Datasets\\diabetes.csv\")\n",
    "df"
   ]
  },
  {
   "cell_type": "code",
   "execution_count": 45,
   "id": "0e7c35a6",
   "metadata": {},
   "outputs": [
    {
     "name": "stdout",
     "output_type": "stream",
     "text": [
      "(768, 8)\n",
      "0      1\n",
      "1      0\n",
      "2      1\n",
      "3      0\n",
      "4      1\n",
      "      ..\n",
      "763    0\n",
      "764    0\n",
      "765    0\n",
      "766    1\n",
      "767    0\n",
      "Name: Outcome, Length: 768, dtype: int64\n"
     ]
    }
   ],
   "source": [
    "x=df.iloc[:,0:8]\n",
    "print(x.shape)\n",
    "y=df.iloc[:,8]\n",
    "print(y)"
   ]
  },
  {
   "cell_type": "code",
   "execution_count": 46,
   "id": "20045e79",
   "metadata": {},
   "outputs": [],
   "source": [
    "model=Sequential()\n",
    "model.add(Dense(12,input_shape=(8,),activation='relu'))\n",
    "model.add(Dense(8,activation='relu'))\n",
    "model.add(Dense(1,activation='sigmoid'))\n"
   ]
  },
  {
   "cell_type": "code",
   "execution_count": 47,
   "id": "f2e8d4e4",
   "metadata": {},
   "outputs": [],
   "source": [
    "model.compile(optimizer='adam',loss='binary_crossentropy',metrics=['accuracy'])"
   ]
  },
  {
   "cell_type": "code",
   "execution_count": 48,
   "id": "4e8b275c",
   "metadata": {
    "scrolled": false
   },
   "outputs": [
    {
     "name": "stdout",
     "output_type": "stream",
     "text": [
      "Epoch 1/100\n",
      "77/77 [==============================] - 1s 4ms/step - loss: 0.7761 - accuracy: 0.6341\n",
      "Epoch 2/100\n",
      "77/77 [==============================] - 0s 2ms/step - loss: 0.7207 - accuracy: 0.6471\n",
      "Epoch 3/100\n",
      "77/77 [==============================] - 0s 3ms/step - loss: 0.7058 - accuracy: 0.6445\n",
      "Epoch 4/100\n",
      "77/77 [==============================] - 0s 3ms/step - loss: 0.6970 - accuracy: 0.6471\n",
      "Epoch 5/100\n",
      "77/77 [==============================] - 0s 4ms/step - loss: 0.6662 - accuracy: 0.6510\n",
      "Epoch 6/100\n",
      "77/77 [==============================] - 0s 4ms/step - loss: 0.6581 - accuracy: 0.6562\n",
      "Epoch 7/100\n",
      "77/77 [==============================] - 0s 3ms/step - loss: 0.6547 - accuracy: 0.6549\n",
      "Epoch 8/100\n",
      "77/77 [==============================] - 0s 3ms/step - loss: 0.6526 - accuracy: 0.6549\n",
      "Epoch 9/100\n",
      "77/77 [==============================] - 0s 3ms/step - loss: 0.6502 - accuracy: 0.6549\n",
      "Epoch 10/100\n",
      "77/77 [==============================] - 0s 3ms/step - loss: 0.6486 - accuracy: 0.6562\n",
      "Epoch 11/100\n",
      "77/77 [==============================] - 0s 3ms/step - loss: 0.6472 - accuracy: 0.6549\n",
      "Epoch 12/100\n",
      "77/77 [==============================] - 0s 3ms/step - loss: 0.6459 - accuracy: 0.6562\n",
      "Epoch 13/100\n",
      "77/77 [==============================] - 0s 3ms/step - loss: 0.6452 - accuracy: 0.6549\n",
      "Epoch 14/100\n",
      "77/77 [==============================] - 0s 4ms/step - loss: 0.6446 - accuracy: 0.6549\n",
      "Epoch 15/100\n",
      "77/77 [==============================] - 0s 3ms/step - loss: 0.6441 - accuracy: 0.6549\n",
      "Epoch 16/100\n",
      "77/77 [==============================] - 0s 4ms/step - loss: 0.6435 - accuracy: 0.6562\n",
      "Epoch 17/100\n",
      "77/77 [==============================] - 0s 3ms/step - loss: 0.6440 - accuracy: 0.6549\n",
      "Epoch 18/100\n",
      "77/77 [==============================] - 0s 3ms/step - loss: 0.6429 - accuracy: 0.6562\n",
      "Epoch 19/100\n",
      "77/77 [==============================] - 0s 4ms/step - loss: 0.6425 - accuracy: 0.6549\n",
      "Epoch 20/100\n",
      "77/77 [==============================] - 0s 4ms/step - loss: 0.6422 - accuracy: 0.6549\n",
      "Epoch 21/100\n",
      "77/77 [==============================] - 0s 3ms/step - loss: 0.6418 - accuracy: 0.6549\n",
      "Epoch 22/100\n",
      "77/77 [==============================] - 0s 4ms/step - loss: 0.6421 - accuracy: 0.6562\n",
      "Epoch 23/100\n",
      "77/77 [==============================] - 0s 4ms/step - loss: 0.6419 - accuracy: 0.6549\n",
      "Epoch 24/100\n",
      "77/77 [==============================] - 0s 5ms/step - loss: 0.6416 - accuracy: 0.6549\n",
      "Epoch 25/100\n",
      "77/77 [==============================] - 0s 3ms/step - loss: 0.6422 - accuracy: 0.6562\n",
      "Epoch 26/100\n",
      "77/77 [==============================] - 0s 4ms/step - loss: 0.6419 - accuracy: 0.6549\n",
      "Epoch 27/100\n",
      "77/77 [==============================] - 0s 4ms/step - loss: 0.6431 - accuracy: 0.6549\n",
      "Epoch 28/100\n",
      "77/77 [==============================] - 0s 4ms/step - loss: 0.6412 - accuracy: 0.6549\n",
      "Epoch 29/100\n",
      "77/77 [==============================] - 0s 4ms/step - loss: 0.6416 - accuracy: 0.6549\n",
      "Epoch 30/100\n",
      "77/77 [==============================] - 0s 4ms/step - loss: 0.6412 - accuracy: 0.6549\n",
      "Epoch 31/100\n",
      "77/77 [==============================] - 0s 4ms/step - loss: 0.6434 - accuracy: 0.6536\n",
      "Epoch 32/100\n",
      "77/77 [==============================] - 0s 3ms/step - loss: 0.6414 - accuracy: 0.6562\n",
      "Epoch 33/100\n",
      "77/77 [==============================] - 0s 4ms/step - loss: 0.6410 - accuracy: 0.6549\n",
      "Epoch 34/100\n",
      "77/77 [==============================] - 0s 4ms/step - loss: 0.6423 - accuracy: 0.6536\n",
      "Epoch 35/100\n",
      "77/77 [==============================] - 0s 4ms/step - loss: 0.6434 - accuracy: 0.6536\n",
      "Epoch 36/100\n",
      "77/77 [==============================] - 0s 4ms/step - loss: 0.6411 - accuracy: 0.6549\n",
      "Epoch 37/100\n",
      "77/77 [==============================] - 0s 3ms/step - loss: 0.6406 - accuracy: 0.6562\n",
      "Epoch 38/100\n",
      "77/77 [==============================] - 0s 3ms/step - loss: 0.6416 - accuracy: 0.6562\n",
      "Epoch 39/100\n",
      "77/77 [==============================] - 0s 4ms/step - loss: 0.6418 - accuracy: 0.6549\n",
      "Epoch 40/100\n",
      "77/77 [==============================] - 0s 4ms/step - loss: 0.6411 - accuracy: 0.6562\n",
      "Epoch 41/100\n",
      "77/77 [==============================] - 0s 3ms/step - loss: 0.6412 - accuracy: 0.6549\n",
      "Epoch 42/100\n",
      "77/77 [==============================] - 0s 4ms/step - loss: 0.6407 - accuracy: 0.6549\n",
      "Epoch 43/100\n",
      "77/77 [==============================] - 0s 4ms/step - loss: 0.6417 - accuracy: 0.6562\n",
      "Epoch 44/100\n",
      "77/77 [==============================] - 0s 3ms/step - loss: 0.6431 - accuracy: 0.6536\n",
      "Epoch 45/100\n",
      "77/77 [==============================] - 0s 4ms/step - loss: 0.6408 - accuracy: 0.6562\n",
      "Epoch 46/100\n",
      "77/77 [==============================] - 0s 4ms/step - loss: 0.6427 - accuracy: 0.6549\n",
      "Epoch 47/100\n",
      "77/77 [==============================] - 0s 4ms/step - loss: 0.6405 - accuracy: 0.6549\n",
      "Epoch 48/100\n",
      "77/77 [==============================] - 0s 4ms/step - loss: 0.6412 - accuracy: 0.6549\n",
      "Epoch 49/100\n",
      "77/77 [==============================] - 0s 4ms/step - loss: 0.6408 - accuracy: 0.6562\n",
      "Epoch 50/100\n",
      "77/77 [==============================] - 0s 4ms/step - loss: 0.6408 - accuracy: 0.6549\n",
      "Epoch 51/100\n",
      "77/77 [==============================] - 0s 4ms/step - loss: 0.6410 - accuracy: 0.6562\n",
      "Epoch 52/100\n",
      "77/77 [==============================] - 0s 4ms/step - loss: 0.6471 - accuracy: 0.6523\n",
      "Epoch 53/100\n",
      "77/77 [==============================] - 0s 4ms/step - loss: 0.6435 - accuracy: 0.6536\n",
      "Epoch 54/100\n",
      "77/77 [==============================] - 0s 4ms/step - loss: 0.6431 - accuracy: 0.6523\n",
      "Epoch 55/100\n",
      "77/77 [==============================] - 0s 4ms/step - loss: 0.6436 - accuracy: 0.6536\n",
      "Epoch 56/100\n",
      "77/77 [==============================] - 0s 3ms/step - loss: 0.6433 - accuracy: 0.6536\n",
      "Epoch 57/100\n",
      "77/77 [==============================] - 0s 3ms/step - loss: 0.6434 - accuracy: 0.6536\n",
      "Epoch 58/100\n",
      "77/77 [==============================] - 0s 4ms/step - loss: 0.6436 - accuracy: 0.6523\n",
      "Epoch 59/100\n",
      "77/77 [==============================] - 0s 3ms/step - loss: 0.6438 - accuracy: 0.6536\n",
      "Epoch 60/100\n",
      "77/77 [==============================] - 0s 3ms/step - loss: 0.6432 - accuracy: 0.6536\n",
      "Epoch 61/100\n",
      "77/77 [==============================] - 0s 3ms/step - loss: 0.6432 - accuracy: 0.6523\n",
      "Epoch 62/100\n",
      "77/77 [==============================] - 0s 3ms/step - loss: 0.6433 - accuracy: 0.6536\n",
      "Epoch 63/100\n",
      "77/77 [==============================] - 0s 4ms/step - loss: 0.6434 - accuracy: 0.6536\n",
      "Epoch 64/100\n",
      "77/77 [==============================] - 0s 4ms/step - loss: 0.6434 - accuracy: 0.6536\n",
      "Epoch 65/100\n",
      "77/77 [==============================] - 0s 3ms/step - loss: 0.6433 - accuracy: 0.6523\n",
      "Epoch 66/100\n",
      "77/77 [==============================] - 0s 3ms/step - loss: 0.6429 - accuracy: 0.6536\n",
      "Epoch 67/100\n",
      "77/77 [==============================] - 0s 4ms/step - loss: 0.6431 - accuracy: 0.6536\n",
      "Epoch 68/100\n",
      "77/77 [==============================] - 0s 3ms/step - loss: 0.6431 - accuracy: 0.6536\n",
      "Epoch 69/100\n",
      "77/77 [==============================] - 0s 3ms/step - loss: 0.6433 - accuracy: 0.6536\n",
      "Epoch 70/100\n",
      "77/77 [==============================] - 0s 3ms/step - loss: 0.6428 - accuracy: 0.6536\n",
      "Epoch 71/100\n",
      "77/77 [==============================] - 0s 4ms/step - loss: 0.6428 - accuracy: 0.6523\n",
      "Epoch 72/100\n",
      "77/77 [==============================] - 0s 4ms/step - loss: 0.6431 - accuracy: 0.6536\n",
      "Epoch 73/100\n",
      "77/77 [==============================] - 0s 3ms/step - loss: 0.6431 - accuracy: 0.6536\n",
      "Epoch 74/100\n",
      "77/77 [==============================] - 0s 4ms/step - loss: 0.6430 - accuracy: 0.6523\n",
      "Epoch 75/100\n",
      "77/77 [==============================] - 0s 3ms/step - loss: 0.6433 - accuracy: 0.6536\n",
      "Epoch 76/100\n",
      "77/77 [==============================] - 0s 4ms/step - loss: 0.6436 - accuracy: 0.6536\n",
      "Epoch 77/100\n",
      "77/77 [==============================] - 0s 3ms/step - loss: 0.6431 - accuracy: 0.6536\n",
      "Epoch 78/100\n",
      "77/77 [==============================] - 0s 3ms/step - loss: 0.6432 - accuracy: 0.6536\n",
      "Epoch 79/100\n",
      "77/77 [==============================] - 0s 4ms/step - loss: 0.6430 - accuracy: 0.6536\n",
      "Epoch 80/100\n",
      "77/77 [==============================] - 0s 3ms/step - loss: 0.6420 - accuracy: 0.6523\n",
      "Epoch 81/100\n",
      "77/77 [==============================] - 0s 4ms/step - loss: 0.6430 - accuracy: 0.6536\n",
      "Epoch 82/100\n",
      "77/77 [==============================] - 0s 3ms/step - loss: 0.6425 - accuracy: 0.6536\n",
      "Epoch 83/100\n",
      "77/77 [==============================] - 0s 3ms/step - loss: 0.6422 - accuracy: 0.6523\n",
      "Epoch 84/100\n",
      "77/77 [==============================] - 0s 4ms/step - loss: 0.6430 - accuracy: 0.6536\n",
      "Epoch 85/100\n",
      "77/77 [==============================] - 0s 3ms/step - loss: 0.6430 - accuracy: 0.6523\n",
      "Epoch 86/100\n",
      "77/77 [==============================] - 0s 4ms/step - loss: 0.6426 - accuracy: 0.6536\n",
      "Epoch 87/100\n",
      "77/77 [==============================] - 0s 4ms/step - loss: 0.6426 - accuracy: 0.6536\n",
      "Epoch 88/100\n",
      "77/77 [==============================] - 0s 4ms/step - loss: 0.6465 - accuracy: 0.6536\n",
      "Epoch 89/100\n",
      "77/77 [==============================] - 0s 3ms/step - loss: 0.6464 - accuracy: 0.6523\n",
      "Epoch 90/100\n",
      "77/77 [==============================] - 0s 4ms/step - loss: 0.6474 - accuracy: 0.6536\n",
      "Epoch 91/100\n",
      "77/77 [==============================] - 0s 3ms/step - loss: 0.6439 - accuracy: 0.6536\n",
      "Epoch 92/100\n",
      "77/77 [==============================] - 0s 4ms/step - loss: 0.6439 - accuracy: 0.6536\n",
      "Epoch 93/100\n",
      "77/77 [==============================] - 0s 4ms/step - loss: 0.6439 - accuracy: 0.6536\n",
      "Epoch 94/100\n",
      "77/77 [==============================] - 0s 4ms/step - loss: 0.6439 - accuracy: 0.6536\n",
      "Epoch 95/100\n",
      "77/77 [==============================] - 0s 4ms/step - loss: 0.6439 - accuracy: 0.6536\n",
      "Epoch 96/100\n",
      "77/77 [==============================] - 0s 4ms/step - loss: 0.6439 - accuracy: 0.6536\n",
      "Epoch 97/100\n",
      "77/77 [==============================] - 0s 4ms/step - loss: 0.6442 - accuracy: 0.6536\n",
      "Epoch 98/100\n",
      "77/77 [==============================] - 0s 4ms/step - loss: 0.6436 - accuracy: 0.6536\n",
      "Epoch 99/100\n",
      "77/77 [==============================] - 0s 4ms/step - loss: 0.6439 - accuracy: 0.6536\n",
      "Epoch 100/100\n",
      "77/77 [==============================] - 0s 4ms/step - loss: 0.6438 - accuracy: 0.6536\n"
     ]
    },
    {
     "data": {
      "text/plain": [
       "<keras.callbacks.History at 0x2085f9ef730>"
      ]
     },
     "execution_count": 48,
     "metadata": {},
     "output_type": "execute_result"
    }
   ],
   "source": [
    "model.fit(x,y,epochs=100,batch_size=10)"
   ]
  },
  {
   "cell_type": "code",
   "execution_count": 49,
   "id": "f4caf4d5",
   "metadata": {},
   "outputs": [
    {
     "name": "stdout",
     "output_type": "stream",
     "text": [
      "24/24 [==============================] - 0s 3ms/step - loss: 0.6437 - accuracy: 0.6536\n"
     ]
    },
    {
     "data": {
      "text/plain": [
       "[0.6436755061149597, 0.6536458134651184]"
      ]
     },
     "execution_count": 49,
     "metadata": {},
     "output_type": "execute_result"
    }
   ],
   "source": [
    "model.evaluate(x,y)"
   ]
  }
 ],
 "metadata": {
  "kernelspec": {
   "display_name": "Python 3 (ipykernel)",
   "language": "python",
   "name": "python3"
  },
  "language_info": {
   "codemirror_mode": {
    "name": "ipython",
    "version": 3
   },
   "file_extension": ".py",
   "mimetype": "text/x-python",
   "name": "python",
   "nbconvert_exporter": "python",
   "pygments_lexer": "ipython3",
   "version": "3.10.9"
  }
 },
 "nbformat": 4,
 "nbformat_minor": 5
}
