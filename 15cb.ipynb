{
 "cells": [
  {
   "cell_type": "code",
   "execution_count": 1,
   "id": "d6387d9f",
   "metadata": {},
   "outputs": [],
   "source": [
    "import pandas as pd\n",
    "import numpy as np\n",
    "import re\n",
    "import collections"
   ]
  },
  {
   "cell_type": "code",
   "execution_count": 3,
   "id": "5a3a1220",
   "metadata": {},
   "outputs": [],
   "source": [
    "f = open(\"input.txt\")\n",
    "doc1 = f.read()\n",
    "f.close()"
   ]
  },
  {
   "cell_type": "code",
   "execution_count": 4,
   "id": "5473a513",
   "metadata": {},
   "outputs": [
    {
     "data": {
      "text/plain": [
       "'John plays football well. He had served as the captain of his college football team. John played tremendously well against the opponent and won for his team. For his contributions, brave John was awarded player of the match.'"
      ]
     },
     "execution_count": 4,
     "metadata": {},
     "output_type": "execute_result"
    }
   ],
   "source": [
    "doc1"
   ]
  },
  {
   "cell_type": "code",
   "execution_count": 5,
   "id": "9673bf4d",
   "metadata": {},
   "outputs": [],
   "source": [
    "l_doc1 = re.sub(r\"[^a-zA-Z0-9]\", \" \", doc1.lower()).split()"
   ]
  },
  {
   "cell_type": "code",
   "execution_count": 6,
   "id": "3e68e256",
   "metadata": {},
   "outputs": [
    {
     "data": {
      "text/plain": [
       "['john',\n",
       " 'plays',\n",
       " 'football',\n",
       " 'well',\n",
       " 'he',\n",
       " 'had',\n",
       " 'served',\n",
       " 'as',\n",
       " 'the',\n",
       " 'captain',\n",
       " 'of',\n",
       " 'his',\n",
       " 'college',\n",
       " 'football',\n",
       " 'team',\n",
       " 'john',\n",
       " 'played',\n",
       " 'tremendously',\n",
       " 'well',\n",
       " 'against',\n",
       " 'the',\n",
       " 'opponent',\n",
       " 'and',\n",
       " 'won',\n",
       " 'for',\n",
       " 'his',\n",
       " 'team',\n",
       " 'for',\n",
       " 'his',\n",
       " 'contributions',\n",
       " 'brave',\n",
       " 'john',\n",
       " 'was',\n",
       " 'awarded',\n",
       " 'player',\n",
       " 'of',\n",
       " 'the',\n",
       " 'match']"
      ]
     },
     "execution_count": 6,
     "metadata": {},
     "output_type": "execute_result"
    }
   ],
   "source": [
    "l_doc1"
   ]
  },
  {
   "cell_type": "code",
   "execution_count": 7,
   "id": "bbc3f15f",
   "metadata": {},
   "outputs": [
    {
     "data": {
      "text/plain": [
       "['john',\n",
       " 'plays',\n",
       " 'football',\n",
       " 'well',\n",
       " 'he',\n",
       " 'had',\n",
       " 'served',\n",
       " 'as',\n",
       " 'the',\n",
       " 'captain',\n",
       " 'of',\n",
       " 'his',\n",
       " 'college',\n",
       " 'football',\n",
       " 'team',\n",
       " 'john',\n",
       " 'played',\n",
       " 'tremendously',\n",
       " 'well',\n",
       " 'against',\n",
       " 'the',\n",
       " 'opponent',\n",
       " 'and',\n",
       " 'won',\n",
       " 'for',\n",
       " 'his',\n",
       " 'team',\n",
       " 'for',\n",
       " 'his',\n",
       " 'contributions',\n",
       " 'brave',\n",
       " 'john',\n",
       " 'was',\n",
       " 'awarded',\n",
       " 'player',\n",
       " 'of',\n",
       " 'the',\n",
       " 'match']"
      ]
     },
     "execution_count": 7,
     "metadata": {},
     "output_type": "execute_result"
    }
   ],
   "source": [
    "l=l_doc1\n",
    "l"
   ]
  },
  {
   "cell_type": "code",
   "execution_count": 8,
   "id": "96d1cf63",
   "metadata": {},
   "outputs": [],
   "source": [
    "wordset=set(l)"
   ]
  },
  {
   "cell_type": "code",
   "execution_count": 9,
   "id": "62ce13e0",
   "metadata": {},
   "outputs": [
    {
     "data": {
      "text/plain": [
       "{'against',\n",
       " 'and',\n",
       " 'as',\n",
       " 'awarded',\n",
       " 'brave',\n",
       " 'captain',\n",
       " 'college',\n",
       " 'contributions',\n",
       " 'football',\n",
       " 'for',\n",
       " 'had',\n",
       " 'he',\n",
       " 'his',\n",
       " 'john',\n",
       " 'match',\n",
       " 'of',\n",
       " 'opponent',\n",
       " 'played',\n",
       " 'player',\n",
       " 'plays',\n",
       " 'served',\n",
       " 'team',\n",
       " 'the',\n",
       " 'tremendously',\n",
       " 'was',\n",
       " 'well',\n",
       " 'won'}"
      ]
     },
     "execution_count": 9,
     "metadata": {},
     "output_type": "execute_result"
    }
   ],
   "source": [
    "wordset"
   ]
  },
  {
   "cell_type": "code",
   "execution_count": 10,
   "id": "0d6ad9d7",
   "metadata": {},
   "outputs": [],
   "source": [
    "def calculateBOW(wordset,l_doc):\n",
    "  tf_diz = dict.fromkeys(wordset,0)\n",
    "  for word in l_doc:\n",
    "      tf_diz[word]=l_doc.count(word)\n",
    "  return tf_diz"
   ]
  },
  {
   "cell_type": "code",
   "execution_count": 11,
   "id": "a6d4ca9f",
   "metadata": {},
   "outputs": [
    {
     "data": {
      "text/html": [
       "<div>\n",
       "<style scoped>\n",
       "    .dataframe tbody tr th:only-of-type {\n",
       "        vertical-align: middle;\n",
       "    }\n",
       "\n",
       "    .dataframe tbody tr th {\n",
       "        vertical-align: top;\n",
       "    }\n",
       "\n",
       "    .dataframe thead th {\n",
       "        text-align: right;\n",
       "    }\n",
       "</style>\n",
       "<table border=\"1\" class=\"dataframe\">\n",
       "  <thead>\n",
       "    <tr style=\"text-align: right;\">\n",
       "      <th></th>\n",
       "      <th>his</th>\n",
       "      <th>as</th>\n",
       "      <th>against</th>\n",
       "      <th>team</th>\n",
       "      <th>played</th>\n",
       "      <th>had</th>\n",
       "      <th>the</th>\n",
       "      <th>college</th>\n",
       "      <th>john</th>\n",
       "      <th>brave</th>\n",
       "      <th>...</th>\n",
       "      <th>and</th>\n",
       "      <th>for</th>\n",
       "      <th>well</th>\n",
       "      <th>captain</th>\n",
       "      <th>was</th>\n",
       "      <th>tremendously</th>\n",
       "      <th>plays</th>\n",
       "      <th>won</th>\n",
       "      <th>football</th>\n",
       "      <th>player</th>\n",
       "    </tr>\n",
       "  </thead>\n",
       "  <tbody>\n",
       "    <tr>\n",
       "      <th>0</th>\n",
       "      <td>3</td>\n",
       "      <td>1</td>\n",
       "      <td>1</td>\n",
       "      <td>2</td>\n",
       "      <td>1</td>\n",
       "      <td>1</td>\n",
       "      <td>3</td>\n",
       "      <td>1</td>\n",
       "      <td>3</td>\n",
       "      <td>1</td>\n",
       "      <td>...</td>\n",
       "      <td>1</td>\n",
       "      <td>2</td>\n",
       "      <td>2</td>\n",
       "      <td>1</td>\n",
       "      <td>1</td>\n",
       "      <td>1</td>\n",
       "      <td>1</td>\n",
       "      <td>1</td>\n",
       "      <td>2</td>\n",
       "      <td>1</td>\n",
       "    </tr>\n",
       "  </tbody>\n",
       "</table>\n",
       "<p>1 rows × 27 columns</p>\n",
       "</div>"
      ],
      "text/plain": [
       "   his  as  against  team  played  had  the  college  john  brave  ...  and  \\\n",
       "0    3   1        1     2       1    1    3        1     3      1  ...    1   \n",
       "\n",
       "   for  well  captain  was  tremendously  plays  won  football  player  \n",
       "0    2     2        1    1             1      1    1         2       1  \n",
       "\n",
       "[1 rows x 27 columns]"
      ]
     },
     "execution_count": 11,
     "metadata": {},
     "output_type": "execute_result"
    }
   ],
   "source": [
    "bow1 = calculateBOW(wordset,l_doc1)\n",
    "df_bow = pd.DataFrame([bow1])\n",
    "df_bow.head()"
   ]
  },
  {
   "cell_type": "code",
   "execution_count": 12,
   "id": "46ca4a07",
   "metadata": {},
   "outputs": [],
   "source": [
    "from sklearn.feature_extraction.text import CountVectorizer\n",
    "vectorizer = CountVectorizer()"
   ]
  },
  {
   "cell_type": "code",
   "execution_count": 13,
   "id": "1fef2038",
   "metadata": {},
   "outputs": [
    {
     "data": {
      "text/html": [
       "<div>\n",
       "<style scoped>\n",
       "    .dataframe tbody tr th:only-of-type {\n",
       "        vertical-align: middle;\n",
       "    }\n",
       "\n",
       "    .dataframe tbody tr th {\n",
       "        vertical-align: top;\n",
       "    }\n",
       "\n",
       "    .dataframe thead th {\n",
       "        text-align: right;\n",
       "    }\n",
       "</style>\n",
       "<table border=\"1\" class=\"dataframe\">\n",
       "  <thead>\n",
       "    <tr style=\"text-align: right;\">\n",
       "      <th></th>\n",
       "      <th>against</th>\n",
       "      <th>and</th>\n",
       "      <th>as</th>\n",
       "      <th>awarded</th>\n",
       "      <th>brave</th>\n",
       "      <th>captain</th>\n",
       "      <th>college</th>\n",
       "      <th>contributions</th>\n",
       "      <th>football</th>\n",
       "      <th>for</th>\n",
       "      <th>...</th>\n",
       "      <th>played</th>\n",
       "      <th>player</th>\n",
       "      <th>plays</th>\n",
       "      <th>served</th>\n",
       "      <th>team</th>\n",
       "      <th>the</th>\n",
       "      <th>tremendously</th>\n",
       "      <th>was</th>\n",
       "      <th>well</th>\n",
       "      <th>won</th>\n",
       "    </tr>\n",
       "  </thead>\n",
       "  <tbody>\n",
       "    <tr>\n",
       "      <th>0</th>\n",
       "      <td>1</td>\n",
       "      <td>1</td>\n",
       "      <td>1</td>\n",
       "      <td>1</td>\n",
       "      <td>1</td>\n",
       "      <td>1</td>\n",
       "      <td>1</td>\n",
       "      <td>1</td>\n",
       "      <td>2</td>\n",
       "      <td>2</td>\n",
       "      <td>...</td>\n",
       "      <td>1</td>\n",
       "      <td>1</td>\n",
       "      <td>1</td>\n",
       "      <td>1</td>\n",
       "      <td>2</td>\n",
       "      <td>3</td>\n",
       "      <td>1</td>\n",
       "      <td>1</td>\n",
       "      <td>2</td>\n",
       "      <td>1</td>\n",
       "    </tr>\n",
       "  </tbody>\n",
       "</table>\n",
       "<p>1 rows × 27 columns</p>\n",
       "</div>"
      ],
      "text/plain": [
       "   against  and  as  awarded  brave  captain  college  contributions  \\\n",
       "0        1    1   1        1      1        1        1              1   \n",
       "\n",
       "   football  for  ...  played  player  plays  served  team  the  tremendously  \\\n",
       "0         2    2  ...       1       1      1       1     2    3             1   \n",
       "\n",
       "   was  well  won  \n",
       "0    1     2    1  \n",
       "\n",
       "[1 rows x 27 columns]"
      ]
     },
     "execution_count": 13,
     "metadata": {},
     "output_type": "execute_result"
    }
   ],
   "source": [
    "X = vectorizer.fit_transform([doc1])\n",
    "df_bow_sklearn = pd.DataFrame(X.toarray(),columns=vectorizer.get_feature_names_out())\n",
    "df_bow_sklearn.head()"
   ]
  },
  {
   "cell_type": "code",
   "execution_count": 14,
   "id": "42ecc4fd",
   "metadata": {},
   "outputs": [
    {
     "name": "stdout",
     "output_type": "stream",
     "text": [
      "['against' 'and' 'as' 'awarded' 'brave' 'captain' 'college'\n",
      " 'contributions' 'football' 'for' 'had' 'he' 'his' 'john' 'match' 'of'\n",
      " 'opponent' 'played' 'player' 'plays' 'served' 'team' 'the' 'tremendously'\n",
      " 'was' 'well' 'won']\n"
     ]
    }
   ],
   "source": [
    "print(vectorizer.get_feature_names_out())"
   ]
  },
  {
   "cell_type": "code",
   "execution_count": 15,
   "id": "7793a872",
   "metadata": {},
   "outputs": [
    {
     "name": "stderr",
     "output_type": "stream",
     "text": [
      "[nltk_data] Downloading package punkt to\n",
      "[nltk_data]     C:\\Users\\yasha\\AppData\\Roaming\\nltk_data...\n",
      "[nltk_data]   Package punkt is already up-to-date!\n"
     ]
    }
   ],
   "source": [
    "import nltk\n",
    "nltk.download('punkt')\n",
    "import re\n",
    "import numpy as np\n",
    "\n",
    "f= open(\"input.txt\")\n",
    "text=f.read()\n",
    "f.close()\n",
    "dataset = nltk.sent_tokenize(text)\n",
    "for i in range(len(dataset)):\n",
    "    dataset[i] = dataset[i].lower()\n",
    "    dataset[i] = re.sub(r'\\W', ' ', dataset[i])\n",
    "    dataset[i] = re.sub(r'\\s+', ' ', dataset[i])"
   ]
  },
  {
   "cell_type": "code",
   "execution_count": 16,
   "id": "46f3d9d0",
   "metadata": {},
   "outputs": [
    {
     "name": "stdout",
     "output_type": "stream",
     "text": [
      "['john plays football well ', 'he had served as the captain of his college football team ', 'john played tremendously well against the opponent and won for his team ', 'for his contributions brave john was awarded player of the match ']\n"
     ]
    }
   ],
   "source": [
    "print(dataset)"
   ]
  },
  {
   "cell_type": "code",
   "execution_count": 17,
   "id": "24c603bf",
   "metadata": {},
   "outputs": [],
   "source": [
    "word2count = {}\n",
    "for data in dataset:\n",
    "    words = nltk.word_tokenize(data)\n",
    "    for word in words:\n",
    "        if word not in word2count.keys():\n",
    "            word2count[word] = 1\n",
    "        else:\n",
    "            word2count[word] += 1"
   ]
  },
  {
   "cell_type": "code",
   "execution_count": 18,
   "id": "d93c8cf0",
   "metadata": {},
   "outputs": [
    {
     "data": {
      "text/plain": [
       "{'john': 3,\n",
       " 'plays': 1,\n",
       " 'football': 2,\n",
       " 'well': 2,\n",
       " 'he': 1,\n",
       " 'had': 1,\n",
       " 'served': 1,\n",
       " 'as': 1,\n",
       " 'the': 3,\n",
       " 'captain': 1,\n",
       " 'of': 2,\n",
       " 'his': 3,\n",
       " 'college': 1,\n",
       " 'team': 2,\n",
       " 'played': 1,\n",
       " 'tremendously': 1,\n",
       " 'against': 1,\n",
       " 'opponent': 1,\n",
       " 'and': 1,\n",
       " 'won': 1,\n",
       " 'for': 2,\n",
       " 'contributions': 1,\n",
       " 'brave': 1,\n",
       " 'was': 1,\n",
       " 'awarded': 1,\n",
       " 'player': 1,\n",
       " 'match': 1}"
      ]
     },
     "execution_count": 18,
     "metadata": {},
     "output_type": "execute_result"
    }
   ],
   "source": [
    "word2count"
   ]
  },
  {
   "cell_type": "code",
   "execution_count": 19,
   "id": "e3ca825f",
   "metadata": {},
   "outputs": [
    {
     "data": {
      "text/plain": [
       "['for',\n",
       " 'his',\n",
       " 'contributions',\n",
       " 'brave',\n",
       " 'john',\n",
       " 'was',\n",
       " 'awarded',\n",
       " 'player',\n",
       " 'of',\n",
       " 'the',\n",
       " 'match']"
      ]
     },
     "execution_count": 19,
     "metadata": {},
     "output_type": "execute_result"
    }
   ],
   "source": [
    "words"
   ]
  },
  {
   "cell_type": "code",
   "execution_count": 20,
   "id": "3126a323",
   "metadata": {},
   "outputs": [
    {
     "data": {
      "text/plain": [
       "11"
      ]
     },
     "execution_count": 20,
     "metadata": {},
     "output_type": "execute_result"
    }
   ],
   "source": [
    "len(words)"
   ]
  },
  {
   "cell_type": "code",
   "execution_count": 21,
   "id": "0c37806c",
   "metadata": {},
   "outputs": [],
   "source": [
    "vocab_size = len(wordset)\n",
    "embed_dim = 10\n",
    "context_size = 4"
   ]
  },
  {
   "cell_type": "code",
   "execution_count": 22,
   "id": "4e749cab",
   "metadata": {},
   "outputs": [],
   "source": [
    "word_to_ix = {word: i for i, word in enumerate(wordset)}\n",
    "ix_to_word = {i: word for i, word in enumerate(wordset)}"
   ]
  },
  {
   "cell_type": "code",
   "execution_count": 23,
   "id": "fa6a122c",
   "metadata": {},
   "outputs": [
    {
     "data": {
      "text/plain": [
       "{'his': 0,\n",
       " 'as': 1,\n",
       " 'against': 2,\n",
       " 'team': 3,\n",
       " 'played': 4,\n",
       " 'had': 5,\n",
       " 'the': 6,\n",
       " 'college': 7,\n",
       " 'john': 8,\n",
       " 'brave': 9,\n",
       " 'served': 10,\n",
       " 'he': 11,\n",
       " 'contributions': 12,\n",
       " 'awarded': 13,\n",
       " 'opponent': 14,\n",
       " 'match': 15,\n",
       " 'of': 16,\n",
       " 'and': 17,\n",
       " 'for': 18,\n",
       " 'well': 19,\n",
       " 'captain': 20,\n",
       " 'was': 21,\n",
       " 'tremendously': 22,\n",
       " 'plays': 23,\n",
       " 'won': 24,\n",
       " 'football': 25,\n",
       " 'player': 26}"
      ]
     },
     "execution_count": 23,
     "metadata": {},
     "output_type": "execute_result"
    }
   ],
   "source": [
    "word_to_ix"
   ]
  },
  {
   "cell_type": "code",
   "execution_count": 24,
   "id": "88048fde",
   "metadata": {},
   "outputs": [
    {
     "name": "stdout",
     "output_type": "stream",
     "text": [
      "[(['for', 'his', 'brave', 'john'], 'contributions'), (['his', 'contributions', 'john', 'was'], 'brave'), (['contributions', 'brave', 'was', 'awarded'], 'john'), (['brave', 'john', 'awarded', 'player'], 'was'), (['john', 'was', 'player', 'of'], 'awarded')]\n"
     ]
    }
   ],
   "source": [
    "data = []\n",
    "for i in range(2, len(words) - 2):\n",
    "    context = [words[i - 2], words[i - 1], words[i + 1], words[i + 2]]\n",
    "    target = words[i]\n",
    "    data.append((context, target))\n",
    "print(data[:5])"
   ]
  },
  {
   "cell_type": "code",
   "execution_count": 25,
   "id": "f3b51992",
   "metadata": {},
   "outputs": [],
   "source": [
    "embeddings =  np.random.random_sample((vocab_size, embed_dim))"
   ]
  },
  {
   "cell_type": "code",
   "execution_count": 26,
   "id": "085a42c1",
   "metadata": {},
   "outputs": [
    {
     "data": {
      "text/plain": [
       "array([[0.17033398, 0.91986093, 0.83953578, 0.06797961, 0.48473037,\n",
       "        0.47596944, 0.14870094, 0.39015982, 0.42297284, 0.3226933 ],\n",
       "       [0.49855046, 0.23823329, 0.383818  , 0.30321332, 0.66550524,\n",
       "        0.581881  , 0.51543907, 0.55675074, 0.04901878, 0.41026272],\n",
       "       [0.74846563, 0.52855279, 0.81780921, 0.33661892, 0.94488593,\n",
       "        0.55107791, 0.17787764, 0.66549122, 0.48838948, 0.960339  ],\n",
       "       [0.63218623, 0.50638891, 0.09452121, 0.89065924, 0.80954446,\n",
       "        0.52712436, 0.67616779, 0.40123736, 0.21805776, 0.31404004],\n",
       "       [0.94082207, 0.30321731, 0.3626291 , 0.54639642, 0.51453183,\n",
       "        0.89589492, 0.80547827, 0.37583202, 0.64650709, 0.7798444 ],\n",
       "       [0.62172527, 0.120757  , 0.84162222, 0.41030488, 0.44945943,\n",
       "        0.78891073, 0.4129327 , 0.3997842 , 0.3214617 , 0.4967209 ],\n",
       "       [0.910486  , 0.55065526, 0.162773  , 0.43762947, 0.96217837,\n",
       "        0.38203622, 0.0760282 , 0.97971154, 0.08701914, 0.34190849],\n",
       "       [0.39114041, 0.05661239, 0.64292671, 0.18865592, 0.45808106,\n",
       "        0.16202602, 0.19055398, 0.96482414, 0.30116056, 0.51041513],\n",
       "       [0.35844967, 0.73284275, 0.97171533, 0.65529907, 0.53742676,\n",
       "        0.64416512, 0.02299496, 0.85584893, 0.56808817, 0.38710323],\n",
       "       [0.27110142, 0.0871152 , 0.18790142, 0.7142488 , 0.03976681,\n",
       "        0.93651072, 0.17716262, 0.04780299, 0.85496981, 0.49655575],\n",
       "       [0.94298118, 0.68508201, 0.98482671, 0.31495267, 0.56317013,\n",
       "        0.98578242, 0.6487217 , 0.65476912, 0.31445291, 0.93028047],\n",
       "       [0.91563013, 0.86726038, 0.4133762 , 0.46073   , 0.8563914 ,\n",
       "        0.84607759, 0.10805352, 0.07432721, 0.88174442, 0.82291751],\n",
       "       [0.23350188, 0.02553268, 0.99978782, 0.7728844 , 0.57527152,\n",
       "        0.82224999, 0.86316781, 0.59212982, 0.19907751, 0.11313184],\n",
       "       [0.2685134 , 0.28532343, 0.99766182, 0.16632039, 0.20824257,\n",
       "        0.27448173, 0.77106549, 0.85801528, 0.72216265, 0.69066723],\n",
       "       [0.41350164, 0.62145125, 0.58117015, 0.56197237, 0.5307831 ,\n",
       "        0.82171383, 0.25932031, 0.85497066, 0.5104754 , 0.46467165],\n",
       "       [0.29735934, 0.42167546, 0.58084602, 0.17758119, 0.16003977,\n",
       "        0.83729792, 0.90807704, 0.3008232 , 0.38069309, 0.39210421],\n",
       "       [0.1520406 , 0.6001609 , 0.73394627, 0.14675011, 0.91585787,\n",
       "        0.39481158, 0.41866409, 0.43759503, 0.45535973, 0.30199203],\n",
       "       [0.10388819, 0.87532134, 0.25024025, 0.47701587, 0.98668989,\n",
       "        0.49935944, 0.60855334, 0.8247555 , 0.55022833, 0.85701263],\n",
       "       [0.0342082 , 0.19595455, 0.13005017, 0.42204609, 0.90122664,\n",
       "        0.67037006, 0.69240882, 0.19875837, 0.07769419, 0.36474771],\n",
       "       [0.04897559, 0.02249907, 0.75192613, 0.21989339, 0.43203817,\n",
       "        0.87804282, 0.133536  , 0.6239787 , 0.95171687, 0.38505109],\n",
       "       [0.74617509, 0.19666339, 0.87815257, 0.74307866, 0.89564477,\n",
       "        0.95744749, 0.38091964, 0.95879754, 0.62803748, 0.00146765],\n",
       "       [0.58676189, 0.56470579, 0.06552338, 0.54436469, 0.11798853,\n",
       "        0.32462666, 0.81582829, 0.76044467, 0.18341504, 0.40790272],\n",
       "       [0.43209348, 0.32297133, 0.29122086, 0.03517521, 0.80608759,\n",
       "        0.33029407, 0.71060946, 0.67351727, 0.71351681, 0.1742609 ],\n",
       "       [0.44711166, 0.54422271, 0.50003371, 0.84339898, 0.85839065,\n",
       "        0.76032164, 0.40638909, 0.93416551, 0.05506255, 0.53990592],\n",
       "       [0.23682594, 0.66141707, 0.81625618, 0.62353591, 0.51888006,\n",
       "        0.45671591, 0.24390805, 0.72144988, 0.52708295, 0.72857196],\n",
       "       [0.7900376 , 0.23336828, 0.25061482, 0.14900852, 0.37442885,\n",
       "        0.65814291, 0.54550257, 0.51107202, 0.96097927, 0.93127316],\n",
       "       [0.37726254, 0.73942536, 0.24448942, 0.65589833, 0.07780568,\n",
       "        0.1471667 , 0.9960395 , 0.40246276, 0.26155691, 0.01308421]])"
      ]
     },
     "execution_count": 26,
     "metadata": {},
     "output_type": "execute_result"
    }
   ],
   "source": [
    "embeddings"
   ]
  },
  {
   "cell_type": "code",
   "execution_count": 27,
   "id": "c78b8159",
   "metadata": {},
   "outputs": [],
   "source": [
    "def linear(m, theta):\n",
    "    w = theta\n",
    "    return m.dot(w)"
   ]
  },
  {
   "cell_type": "code",
   "execution_count": 28,
   "id": "a51f1e21",
   "metadata": {},
   "outputs": [],
   "source": [
    "def log_softmax(x):\n",
    "    e_x = np.exp(x - np.max(x))\n",
    "    return np.log(e_x / e_x.sum())\n",
    "def NLLLoss(logs, targets):\n",
    "    out = logs[range(len(targets)), targets]\n",
    "    return -out.sum()/len(out)"
   ]
  },
  {
   "cell_type": "code",
   "execution_count": 29,
   "id": "0e11b211",
   "metadata": {},
   "outputs": [],
   "source": [
    "import tensorflow as tf\n",
    "import keras.backend as k\n",
    "from keras.models import Sequential\n",
    "from keras.layers import Dense, Embedding, Lambda"
   ]
  },
  {
   "cell_type": "code",
   "execution_count": 30,
   "id": "b6753ccb",
   "metadata": {},
   "outputs": [],
   "source": [
    "def log_softmax_crossentropy_with_logits(logits,target):\n",
    "\n",
    "    out = np.zeros_like(logits)\n",
    "    out[np.arange(len(logits)),target] = 1\n",
    "\n",
    "    softmax = np.exp(logits) / np.exp(logits).sum(axis=-1,keepdims=True)\n",
    "\n",
    "    return (- out + softmax) / logits.shape[0]"
   ]
  },
  {
   "cell_type": "code",
   "execution_count": 31,
   "id": "256e3336",
   "metadata": {},
   "outputs": [],
   "source": [
    "def forward(context_idxs, theta):\n",
    "    m = embeddings[context_idxs].reshape(1, -1)\n",
    "    n = linear(m, theta)\n",
    "    o = log_softmax(n)\n",
    "\n",
    "    return m, n, o"
   ]
  },
  {
   "cell_type": "code",
   "execution_count": 32,
   "id": "466faafd",
   "metadata": {},
   "outputs": [],
   "source": [
    "def backward(preds, theta, target_idxs):\n",
    "    m, n, o = preds\n",
    "\n",
    "    dlog = log_softmax_crossentropy_with_logits(n, target_idxs)\n",
    "    dw = m.T.dot(dlog)\n",
    "\n",
    "    return dw"
   ]
  },
  {
   "cell_type": "code",
   "execution_count": 33,
   "id": "dcbfba8a",
   "metadata": {},
   "outputs": [],
   "source": [
    "def optimize(theta, grad, lr=0.03):\n",
    "    theta -= grad * lr\n",
    "    return theta"
   ]
  },
  {
   "cell_type": "code",
   "execution_count": 34,
   "id": "6c06f209",
   "metadata": {},
   "outputs": [],
   "source": [
    "theta = np.random.uniform(-1, 1, ( context_size * embed_dim, vocab_size))"
   ]
  },
  {
   "cell_type": "code",
   "execution_count": 35,
   "id": "be545042",
   "metadata": {},
   "outputs": [],
   "source": [
    "epoch_losses = {}\n",
    "\n",
    "for epoch in range(80):\n",
    "\n",
    "    losses =  []\n",
    "\n",
    "    for context, target in data:\n",
    "        context_idxs = np.array([word_to_ix[w] for w in context])\n",
    "        preds = forward(context_idxs, theta)\n",
    "\n",
    "        target_idxs = np.array([word_to_ix[target]])\n",
    "        loss = NLLLoss(preds[-1], target_idxs)\n",
    "\n",
    "        losses.append(loss)\n",
    "\n",
    "        grad = backward(preds, theta, target_idxs)\n",
    "        theta = optimize(theta, grad, lr=0.03)\n",
    "\n",
    "        epoch_losses[epoch] = losses"
   ]
  },
  {
   "cell_type": "code",
   "execution_count": 36,
   "id": "f14ad7b9",
   "metadata": {},
   "outputs": [
    {
     "data": {
      "text/plain": [
       "Text(0, 0.5, 'Losses')"
      ]
     },
     "execution_count": 36,
     "metadata": {},
     "output_type": "execute_result"
    },
    {
     "data": {
      "image/png": "[encoded data removed]",
      "text/plain": [
       "<Figure size 640x480 with 1 Axes>"
      ]
     },
     "metadata": {},
     "output_type": "display_data"
    }
   ],
   "source": [
    "import matplotlib.pyplot as plt\n",
    "ix = np.arange(0,80)\n",
    "\n",
    "fig = plt.figure()\n",
    "fig.suptitle('Epoch/Losses', fontsize=20)\n",
    "plt.plot(ix,[epoch_losses[i][0] for i in ix])\n",
    "plt.xlabel('Epochs', fontsize=12)\n",
    "plt.ylabel('Losses', fontsize=12)"
   ]
  },
  {
   "cell_type": "code",
   "execution_count": 37,
   "id": "e403078a",
   "metadata": {},
   "outputs": [
    {
     "data": {
      "text/plain": [
       "'was'"
      ]
     },
     "execution_count": 37,
     "metadata": {},
     "output_type": "execute_result"
    }
   ],
   "source": [
    "def predict(words):\n",
    "    context_idxs = np.array([word_to_ix[w] for w in words])\n",
    "    preds = forward(context_idxs, theta)\n",
    "    word = ix_to_word[np.argmax(preds[-1])]\n",
    "\n",
    "    return word\n",
    "predict(['brave', 'john', 'awarded','player'])"
   ]
  },
  {
   "cell_type": "code",
   "execution_count": 38,
   "id": "cdbc241e",
   "metadata": {},
   "outputs": [
    {
     "data": {
      "text/plain": [
       "1.0"
      ]
     },
     "execution_count": 38,
     "metadata": {},
     "output_type": "execute_result"
    }
   ],
   "source": [
    "def accuracy():\n",
    "    wrong = 0\n",
    "\n",
    "    for context, target in data:\n",
    "        if(predict(context) != target):\n",
    "            wrong += 1\n",
    "\n",
    "    return (1 - (wrong / len(data)))\n",
    "accuracy()"
   ]
  },
  {
   "cell_type": "code",
   "execution_count": null,
   "id": "9606e4d4",
   "metadata": {},
   "outputs": [],
   "source": []
  }
 ],
 "metadata": {
  "kernelspec": {
   "display_name": "Python 3 (ipykernel)",
   "language": "python",
   "name": "python3"
  },
  "language_info": {
   "codemirror_mode": {
    "name": "ipython",
    "version": 3
   },
   "file_extension": ".py",
   "mimetype": "text/x-python",
   "name": "python",
   "nbconvert_exporter": "python",
   "pygments_lexer": "ipython3",
   "version": "3.10.9"
  }
 },
 "nbformat": 4,
 "nbformat_minor": 5
}
